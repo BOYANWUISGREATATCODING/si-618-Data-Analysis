{
 "cells": [
  {
   "cell_type": "markdown",
   "metadata": {},
   "source": [
    "## NYC Airbnb Stattistics: \n",
    "\n",
    "### <u>Source Description (by author):</u>\n",
    "> Airbnb, Inc is an American San Francisco-based company operating an online marketplace for short- and long-term homestays and experiences.\n",
    "The company was founded in 2008 by Brian Chesky, Nathan Blecharczyk, and Joe Gebbia.\n",
    "Since it was founded in 2008, Airbnb has become one of the most successful and valuable start-ups in the world and has significantly impacted the HORECA (hotel, restaurant, and catering) industry.\n",
    "Airbnb is a platform that allows house and apartment owners to rent their properties to guests for short-term stays.\n",
    "Since 2011, hosts have been using Airbnb. This dataset describes the listing activity and metrics in NYC for 2023.\n",
    "\n",
    "### <u>Column Content: </u>\n",
    "- id : id value of hosted house\n",
    "- name : Name introducing the hosted home\n",
    "- host_id: id of the host\n",
    "- host_name : Name of the host\n",
    "- neighbourhood_group: the area where the hosted home is located\n",
    "- neighbourhood: Nomination around hosted home\n",
    "- latitude: latitude\n",
    "- longitude: longitude\n",
    "- room_type: Type of hosted home\n",
    "- price: Daily accommodation price (target variable)\n",
    "- minimum_nights: Minimum number of nights\n",
    "- number_of_reviews : Total number of reviews\n",
    "- last_review: Last review date\n",
    "- reviews_per_month: number of reviews per month\n",
    "- calculated_host_listings_count: Number of accommodations hosted by the host\n",
    "- availability_365: number of days\n",
    "- number_of_reviews_ltm: Number of reviews in the last n months\n",
    "- license: Accommodation License\n",
    "'Special': Only one person has a license\n"
   ]
  },
  {
   "cell_type": "code",
   "execution_count": 1,
   "metadata": {},
   "outputs": [],
   "source": [
    "import pandas as pd\n",
    "import numpy as np\n",
    "from shapely.geometry import Point, Polygon"
   ]
  },
  {
   "cell_type": "code",
   "execution_count": 2,
   "metadata": {},
   "outputs": [
    {
     "name": "stderr",
     "output_type": "stream",
     "text": [
      "/var/folders/pr/r0bhz2p568x48xk2vr6zysbw0000gn/T/ipykernel_10360/442398548.py:1: DtypeWarning: Columns (17) have mixed types. Specify dtype option on import or set low_memory=False.\n",
      "  airbnb = pd.read_csv('./Data/NYC-Airbnb-2023.csv')\n"
     ]
    }
   ],
   "source": [
    "airbnb = pd.read_csv('./Data/NYC-Airbnb-2023.csv')"
   ]
  },
  {
   "cell_type": "code",
   "execution_count": 3,
   "metadata": {},
   "outputs": [
    {
     "data": {
      "text/html": [
       "<div>\n",
       "<style scoped>\n",
       "    .dataframe tbody tr th:only-of-type {\n",
       "        vertical-align: middle;\n",
       "    }\n",
       "\n",
       "    .dataframe tbody tr th {\n",
       "        vertical-align: top;\n",
       "    }\n",
       "\n",
       "    .dataframe thead th {\n",
       "        text-align: right;\n",
       "    }\n",
       "</style>\n",
       "<table border=\"1\" class=\"dataframe\">\n",
       "  <thead>\n",
       "    <tr style=\"text-align: right;\">\n",
       "      <th></th>\n",
       "      <th>id</th>\n",
       "      <th>name</th>\n",
       "      <th>host_id</th>\n",
       "      <th>host_name</th>\n",
       "      <th>neighbourhood_group</th>\n",
       "      <th>neighbourhood</th>\n",
       "      <th>latitude</th>\n",
       "      <th>longitude</th>\n",
       "      <th>room_type</th>\n",
       "      <th>price</th>\n",
       "      <th>minimum_nights</th>\n",
       "      <th>number_of_reviews</th>\n",
       "      <th>last_review</th>\n",
       "      <th>reviews_per_month</th>\n",
       "      <th>calculated_host_listings_count</th>\n",
       "      <th>availability_365</th>\n",
       "      <th>number_of_reviews_ltm</th>\n",
       "      <th>license</th>\n",
       "    </tr>\n",
       "  </thead>\n",
       "  <tbody>\n",
       "    <tr>\n",
       "      <th>0</th>\n",
       "      <td>2595</td>\n",
       "      <td>Skylit Midtown Castle</td>\n",
       "      <td>2845</td>\n",
       "      <td>Jennifer</td>\n",
       "      <td>Manhattan</td>\n",
       "      <td>Midtown</td>\n",
       "      <td>40.75356</td>\n",
       "      <td>-73.98559</td>\n",
       "      <td>Entire home/apt</td>\n",
       "      <td>150</td>\n",
       "      <td>30</td>\n",
       "      <td>49</td>\n",
       "      <td>2022-06-21</td>\n",
       "      <td>0.30</td>\n",
       "      <td>3</td>\n",
       "      <td>314</td>\n",
       "      <td>1</td>\n",
       "      <td>NaN</td>\n",
       "    </tr>\n",
       "    <tr>\n",
       "      <th>1</th>\n",
       "      <td>5121</td>\n",
       "      <td>BlissArtsSpace!</td>\n",
       "      <td>7356</td>\n",
       "      <td>Garon</td>\n",
       "      <td>Brooklyn</td>\n",
       "      <td>Bedford-Stuyvesant</td>\n",
       "      <td>40.68535</td>\n",
       "      <td>-73.95512</td>\n",
       "      <td>Private room</td>\n",
       "      <td>60</td>\n",
       "      <td>30</td>\n",
       "      <td>50</td>\n",
       "      <td>2019-12-02</td>\n",
       "      <td>0.30</td>\n",
       "      <td>2</td>\n",
       "      <td>365</td>\n",
       "      <td>0</td>\n",
       "      <td>NaN</td>\n",
       "    </tr>\n",
       "    <tr>\n",
       "      <th>2</th>\n",
       "      <td>5203</td>\n",
       "      <td>Cozy Clean Guest Room - Family Apt</td>\n",
       "      <td>7490</td>\n",
       "      <td>MaryEllen</td>\n",
       "      <td>Manhattan</td>\n",
       "      <td>Upper West Side</td>\n",
       "      <td>40.80380</td>\n",
       "      <td>-73.96751</td>\n",
       "      <td>Private room</td>\n",
       "      <td>75</td>\n",
       "      <td>2</td>\n",
       "      <td>118</td>\n",
       "      <td>2017-07-21</td>\n",
       "      <td>0.72</td>\n",
       "      <td>1</td>\n",
       "      <td>0</td>\n",
       "      <td>0</td>\n",
       "      <td>NaN</td>\n",
       "    </tr>\n",
       "    <tr>\n",
       "      <th>3</th>\n",
       "      <td>5178</td>\n",
       "      <td>Large Furnished Room Near B'way</td>\n",
       "      <td>8967</td>\n",
       "      <td>Shunichi</td>\n",
       "      <td>Manhattan</td>\n",
       "      <td>Midtown</td>\n",
       "      <td>40.76457</td>\n",
       "      <td>-73.98317</td>\n",
       "      <td>Private room</td>\n",
       "      <td>68</td>\n",
       "      <td>2</td>\n",
       "      <td>575</td>\n",
       "      <td>2023-02-19</td>\n",
       "      <td>3.41</td>\n",
       "      <td>1</td>\n",
       "      <td>106</td>\n",
       "      <td>52</td>\n",
       "      <td>NaN</td>\n",
       "    </tr>\n",
       "    <tr>\n",
       "      <th>4</th>\n",
       "      <td>5136</td>\n",
       "      <td>Large Sunny Brooklyn Duplex, Patio + Garden</td>\n",
       "      <td>7378</td>\n",
       "      <td>Rebecca</td>\n",
       "      <td>Brooklyn</td>\n",
       "      <td>Sunset Park</td>\n",
       "      <td>40.66265</td>\n",
       "      <td>-73.99454</td>\n",
       "      <td>Entire home/apt</td>\n",
       "      <td>275</td>\n",
       "      <td>60</td>\n",
       "      <td>3</td>\n",
       "      <td>2022-08-10</td>\n",
       "      <td>0.03</td>\n",
       "      <td>1</td>\n",
       "      <td>181</td>\n",
       "      <td>1</td>\n",
       "      <td>NaN</td>\n",
       "    </tr>\n",
       "  </tbody>\n",
       "</table>\n",
       "</div>"
      ],
      "text/plain": [
       "     id                                         name  host_id  host_name  \\\n",
       "0  2595                        Skylit Midtown Castle     2845   Jennifer   \n",
       "1  5121                              BlissArtsSpace!     7356      Garon   \n",
       "2  5203           Cozy Clean Guest Room - Family Apt     7490  MaryEllen   \n",
       "3  5178             Large Furnished Room Near B'way　     8967   Shunichi   \n",
       "4  5136  Large Sunny Brooklyn Duplex, Patio + Garden     7378    Rebecca   \n",
       "\n",
       "  neighbourhood_group       neighbourhood  latitude  longitude  \\\n",
       "0           Manhattan             Midtown  40.75356  -73.98559   \n",
       "1            Brooklyn  Bedford-Stuyvesant  40.68535  -73.95512   \n",
       "2           Manhattan     Upper West Side  40.80380  -73.96751   \n",
       "3           Manhattan             Midtown  40.76457  -73.98317   \n",
       "4            Brooklyn         Sunset Park  40.66265  -73.99454   \n",
       "\n",
       "         room_type  price  minimum_nights  number_of_reviews last_review  \\\n",
       "0  Entire home/apt    150              30                 49  2022-06-21   \n",
       "1     Private room     60              30                 50  2019-12-02   \n",
       "2     Private room     75               2                118  2017-07-21   \n",
       "3     Private room     68               2                575  2023-02-19   \n",
       "4  Entire home/apt    275              60                  3  2022-08-10   \n",
       "\n",
       "   reviews_per_month  calculated_host_listings_count  availability_365  \\\n",
       "0               0.30                               3               314   \n",
       "1               0.30                               2               365   \n",
       "2               0.72                               1                 0   \n",
       "3               3.41                               1               106   \n",
       "4               0.03                               1               181   \n",
       "\n",
       "   number_of_reviews_ltm license  \n",
       "0                      1     NaN  \n",
       "1                      0     NaN  \n",
       "2                      0     NaN  \n",
       "3                     52     NaN  \n",
       "4                      1     NaN  "
      ]
     },
     "execution_count": 3,
     "metadata": {},
     "output_type": "execute_result"
    }
   ],
   "source": [
    "airbnb.head()"
   ]
  },
  {
   "cell_type": "code",
   "execution_count": 4,
   "metadata": {},
   "outputs": [
    {
     "name": "stdout",
     "output_type": "stream",
     "text": [
      "<class 'pandas.core.frame.DataFrame'>\n",
      "RangeIndex: 42931 entries, 0 to 42930\n",
      "Data columns (total 18 columns):\n",
      " #   Column                          Non-Null Count  Dtype  \n",
      "---  ------                          --------------  -----  \n",
      " 0   id                              42931 non-null  int64  \n",
      " 1   name                            42919 non-null  object \n",
      " 2   host_id                         42931 non-null  int64  \n",
      " 3   host_name                       42926 non-null  object \n",
      " 4   neighbourhood_group             42931 non-null  object \n",
      " 5   neighbourhood                   42931 non-null  object \n",
      " 6   latitude                        42931 non-null  float64\n",
      " 7   longitude                       42931 non-null  float64\n",
      " 8   room_type                       42931 non-null  object \n",
      " 9   price                           42931 non-null  int64  \n",
      " 10  minimum_nights                  42931 non-null  int64  \n",
      " 11  number_of_reviews               42931 non-null  int64  \n",
      " 12  last_review                     32627 non-null  object \n",
      " 13  reviews_per_month               32627 non-null  float64\n",
      " 14  calculated_host_listings_count  42931 non-null  int64  \n",
      " 15  availability_365                42931 non-null  int64  \n",
      " 16  number_of_reviews_ltm           42931 non-null  int64  \n",
      " 17  license                         1 non-null      object \n",
      "dtypes: float64(3), int64(8), object(7)\n",
      "memory usage: 5.9+ MB\n"
     ]
    }
   ],
   "source": [
    "airbnb.info()"
   ]
  },
  {
   "cell_type": "markdown",
   "metadata": {},
   "source": [
    "Below I drop columns that will not be relevant to my analysis."
   ]
  },
  {
   "cell_type": "code",
   "execution_count": 5,
   "metadata": {},
   "outputs": [],
   "source": [
    "columns_to_drop = [\"license\", \"name\", \"host_name\", \"host_id\", \"last_review\", \"neighbourhood\", \"number_of_reviews_ltm\"]\n",
    "airbnb.drop(columns_to_drop, axis=1, inplace=True)"
   ]
  },
  {
   "cell_type": "code",
   "execution_count": 6,
   "metadata": {},
   "outputs": [],
   "source": [
    "airbnb['reviews_per_month'].fillna(0, inplace=True)"
   ]
  },
  {
   "cell_type": "code",
   "execution_count": 7,
   "metadata": {},
   "outputs": [
    {
     "name": "stdout",
     "output_type": "stream",
     "text": [
      "<class 'pandas.core.frame.DataFrame'>\n",
      "RangeIndex: 42931 entries, 0 to 42930\n",
      "Data columns (total 11 columns):\n",
      " #   Column                          Non-Null Count  Dtype  \n",
      "---  ------                          --------------  -----  \n",
      " 0   id                              42931 non-null  int64  \n",
      " 1   neighbourhood_group             42931 non-null  object \n",
      " 2   latitude                        42931 non-null  float64\n",
      " 3   longitude                       42931 non-null  float64\n",
      " 4   room_type                       42931 non-null  object \n",
      " 5   price                           42931 non-null  int64  \n",
      " 6   minimum_nights                  42931 non-null  int64  \n",
      " 7   number_of_reviews               42931 non-null  int64  \n",
      " 8   reviews_per_month               42931 non-null  float64\n",
      " 9   calculated_host_listings_count  42931 non-null  int64  \n",
      " 10  availability_365                42931 non-null  int64  \n",
      "dtypes: float64(3), int64(6), object(2)\n",
      "memory usage: 3.6+ MB\n"
     ]
    }
   ],
   "source": [
    "airbnb.info()"
   ]
  },
  {
   "cell_type": "code",
   "execution_count": 8,
   "metadata": {},
   "outputs": [
    {
     "data": {
      "text/plain": [
       "Entire home/apt    24279\n",
       "Private room       17879\n",
       "Shared room          576\n",
       "Hotel room           197\n",
       "Name: room_type, dtype: int64"
      ]
     },
     "execution_count": 8,
     "metadata": {},
     "output_type": "execute_result"
    }
   ],
   "source": [
    "airbnb.room_type.value_counts()"
   ]
  },
  {
   "cell_type": "markdown",
   "metadata": {},
   "source": [
    "### Add neighbourhood_cd column:\n",
    "- New York city has 300+ neighbours districts, and we will assign each airbnb house to its corresponding neighbourhood code from 1-300+. Finally, we will airbnb dataset with crime dataset with the shared key column \"neighbourhood_cd\". \n",
    "- We will refer to the geometric information in fullDownload.geojson on latitude and longitude."
   ]
  },
  {
   "cell_type": "code",
   "execution_count": 9,
   "metadata": {},
   "outputs": [],
   "source": [
    "all_geo = pd.read_json('./Data/fullDownload.geojson')\n",
    "all_geo = all_geo['features']"
   ]
  },
  {
   "cell_type": "code",
   "execution_count": 10,
   "metadata": {},
   "outputs": [],
   "source": [
    "def filter_ny(all):\n",
    "    for i in range(len(all)):\n",
    "        if all[i]['properties']['state'] != 'NY':\n",
    "            del all[i]\n",
    "        elif all[i]['properties']['city'] not in ['Manhattan', 'Brooklyn', 'Queens', 'Bronx', 'Staten Island']:\n",
    "            del all[i]\n",
    "    return all\n",
    "\n",
    "all_geo = filter_ny(all_geo)"
   ]
  },
  {
   "cell_type": "code",
   "execution_count": 11,
   "metadata": {},
   "outputs": [],
   "source": [
    "class NYCDistrict:\n",
    "    def __init__(self, dict):\n",
    "        self.Coordinates = dict['geometry']['coordinates'][0][0]\n",
    "        self.HolcGrade = dict['properties']['holc_grade']\n",
    "        self.city = dict['properties']['city']\n",
    "        self.name = dict['properties']['name']\n",
    "        self.RandomLat = None\n",
    "        self.RandomLong = None\n",
    "        self.Median_Income = None\n",
    "        self.CensusTract = None\n",
    "\n",
    "    @property\n",
    "    def HolcColor(self):\n",
    "        if self.HolcGrade == 'A':\n",
    "            return 'darkgreen'\n",
    "        elif self.HolcGrade == 'B':\n",
    "            return 'cornflowerblue'\n",
    "        elif self.HolcGrade == 'C':\n",
    "            return 'gold'\n",
    "        elif self.HolcGrade == 'D':\n",
    "            return 'maroon'\n",
    "        else:\n",
    "            return 'black'\n",
    "\n",
    "    \n",
    "\n",
    "Districts = []\n",
    "for district in all_geo:\n",
    "    Districts.append(NYCDistrict(district))"
   ]
  },
  {
   "cell_type": "code",
   "execution_count": 12,
   "metadata": {},
   "outputs": [],
   "source": [
    "def get_dist_name(lat, long):\n",
    "    point = Point(lat, long)\n",
    "    for i in range(len(Districts)):\n",
    "        polygon = Polygon(Districts[i].Coordinates)\n",
    "        if polygon.contains(point): \n",
    "            return i\n",
    "    return -1"
   ]
  },
  {
   "cell_type": "code",
   "execution_count": 13,
   "metadata": {},
   "outputs": [],
   "source": [
    "airbnb['neighbourhood_cd'] = airbnb.apply(lambda row: get_dist_name(row['longitude'], row['latitude']), axis=1)"
   ]
  },
  {
   "cell_type": "code",
   "execution_count": 14,
   "metadata": {},
   "outputs": [],
   "source": [
    "# drop the rows where the neighbourhood_cd is -1\n",
    "airbnb['neighbourhood_cd'].replace(-1, np.nan, inplace=True)\n",
    "airbnb.dropna(inplace=True)   "
   ]
  },
  {
   "cell_type": "markdown",
   "metadata": {},
   "source": [
    "### output the cleaned file to csv: airbnb"
   ]
  },
  {
   "cell_type": "code",
   "execution_count": 15,
   "metadata": {},
   "outputs": [],
   "source": [
    "airbnb.to_csv('./Data/airbnb.csv', index=False)"
   ]
  }
 ],
 "metadata": {
  "kernelspec": {
   "display_name": "base",
   "language": "python",
   "name": "python3"
  },
  "language_info": {
   "codemirror_mode": {
    "name": "ipython",
    "version": 3
   },
   "file_extension": ".py",
   "mimetype": "text/x-python",
   "name": "python",
   "nbconvert_exporter": "python",
   "pygments_lexer": "ipython3",
   "version": "3.11.4"
  }
 },
 "nbformat": 4,
 "nbformat_minor": 2
}
